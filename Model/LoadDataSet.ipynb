{
 "cells": [
  {
   "cell_type": "code",
   "execution_count": 1,
   "metadata": {},
   "outputs": [],
   "source": [
    "import pprint\n",
    "\n",
    "%matplotlib inline\n",
    "import matplotlib.pyplot as plt\n",
    "from mpl_toolkits.axes_grid1 import make_axes_locatable\n",
    "\n",
    "import numpy as np\n",
    "import tensorflow as tf\n",
    "import tensorflow_datasets as tfds\n",
    "\n",
    "import tensorflow_recommenders as tfrs"
   ]
  },
  {
   "cell_type": "code",
   "execution_count": 2,
   "metadata": {},
   "outputs": [
    {
     "name": "stderr",
     "output_type": "stream",
     "text": [
      "2023-10-15 20:30:39.685939: W tensorflow/core/platform/cloud/google_auth_provider.cc:184] All attempts to get a Google authentication bearer token failed, returning an empty token. Retrieving token from files failed with \"NOT_FOUND: Could not locate the credentials file.\". Retrieving token from GCE failed with \"FAILED_PRECONDITION: Error executing an HTTP request: libcurl code 6 meaning 'Couldn't resolve host name', error details: Could not resolve host: metadata\".\n",
      "2023-10-15 20:31:40.688656: E tensorflow/core/platform/cloud/curl_http_request.cc:614] The transmission  of request 0x296bea670 (URI: https://www.googleapis.com/storage/v1/b/tfds-data/o/dataset_info%2Fmovielens%2F100k-ratings%2F0.1.1?fields=size%2Cgeneration%2Cupdated) has been stuck at 0 of 0 bytes for 61 seconds and will be aborted. CURL timing information: lookup time: 0.002014 (No error), connect time: 0 (No error), pre-transfer time: 0 (No error), start-transfer time: 0 (No error)\n",
      "2023-10-15 20:32:41.883352: E tensorflow/core/platform/cloud/curl_http_request.cc:614] The transmission  of request 0x296bea670 (URI: https://www.googleapis.com/storage/v1/b/tfds-data/o/dataset_info%2Fmovielens%2F100k-ratings%2F0.1.1?fields=size%2Cgeneration%2Cupdated) has been stuck at 0 of 0 bytes for 61 seconds and will be aborted. CURL timing information: lookup time: 0.098833 (No error), connect time: 0 (No error), pre-transfer time: 0 (No error), start-transfer time: 0 (No error)\n",
      "2023-10-15 20:33:43.608076: E tensorflow/core/platform/cloud/curl_http_request.cc:614] The transmission  of request 0x105f072a0 (URI: https://www.googleapis.com/storage/v1/b/tfds-data/o/dataset_info%2Fmovielens%2F100k-ratings%2F0.1.1?fields=size%2Cgeneration%2Cupdated) has been stuck at 0 of 0 bytes for 61 seconds and will be aborted. CURL timing information: lookup time: 0.002539 (No error), connect time: 0 (No error), pre-transfer time: 0 (No error), start-transfer time: 0 (No error)\n",
      "2023-10-15 20:34:45.553023: E tensorflow/core/platform/cloud/curl_http_request.cc:614] The transmission  of request 0x16d1fbf80 (URI: https://www.googleapis.com/storage/v1/b/tfds-data/o/dataset_info%2Fmovielens%2F100k-ratings%2F0.1.1?fields=size%2Cgeneration%2Cupdated) has been stuck at 0 of 0 bytes for 61 seconds and will be aborted. CURL timing information: lookup time: 0.001195 (No error), connect time: 0 (No error), pre-transfer time: 0 (No error), start-transfer time: 0 (No error)\n",
      "2023-10-15 20:35:48.161124: E tensorflow/core/platform/cloud/curl_http_request.cc:614] The transmission  of request 0x10670a0e0 (URI: https://www.googleapis.com/storage/v1/b/tfds-data/o/dataset_info%2Fmovielens%2F100k-ratings%2F0.1.1?fields=size%2Cgeneration%2Cupdated) has been stuck at 0 of 0 bytes for 61 seconds and will be aborted. CURL timing information: lookup time: 0.015751 (No error), connect time: 0 (No error), pre-transfer time: 0 (No error), start-transfer time: 0 (No error)\n",
      "2023-10-15 20:36:51.244564: E tensorflow/core/platform/cloud/curl_http_request.cc:614] The transmission  of request 0x105f07230 (URI: https://www.googleapis.com/storage/v1/b/tfds-data/o/dataset_info%2Fmovielens%2F100k-ratings%2F0.1.1?fields=size%2Cgeneration%2Cupdated) has been stuck at 0 of 0 bytes for 61 seconds and will be aborted. CURL timing information: lookup time: 0.004338 (No error), connect time: 0 (No error), pre-transfer time: 0 (No error), start-transfer time: 0 (No error)\n",
      "2023-10-15 20:37:55.757442: E tensorflow/core/platform/cloud/curl_http_request.cc:614] The transmission  of request 0x105f071a0 (URI: https://www.googleapis.com/storage/v1/b/tfds-data/o/dataset_info%2Fmovielens%2F100k-ratings%2F0.1.1?fields=size%2Cgeneration%2Cupdated) has been stuck at 0 of 0 bytes for 61 seconds and will be aborted. CURL timing information: lookup time: 0.018122 (No error), connect time: 0 (No error), pre-transfer time: 0 (No error), start-transfer time: 0 (No error)\n",
      "2023-10-15 20:39:03.229085: E tensorflow/core/platform/cloud/curl_http_request.cc:614] The transmission  of request 0x105f08f80 (URI: https://www.googleapis.com/storage/v1/b/tfds-data/o/dataset_info%2Fmovielens%2F100k-ratings%2F0.1.1?fields=size%2Cgeneration%2Cupdated) has been stuck at 0 of 0 bytes for 61 seconds and will be aborted. CURL timing information: lookup time: 0.005727 (No error), connect time: 0 (No error), pre-transfer time: 0 (No error), start-transfer time: 0 (No error)\n",
      "2023-10-15 20:40:17.588297: E tensorflow/core/platform/cloud/curl_http_request.cc:614] The transmission  of request 0x105f08340 (URI: https://www.googleapis.com/storage/v1/b/tfds-data/o/dataset_info%2Fmovielens%2F100k-ratings%2F0.1.1?fields=size%2Cgeneration%2Cupdated) has been stuck at 0 of 0 bytes for 61 seconds and will be aborted. CURL timing information: lookup time: 0.013652 (No error), connect time: 60.1526 (No error), pre-transfer time: 0 (No error), start-transfer time: 0 (No error)\n",
      "2023-10-15 20:41:44.222975: E tensorflow/core/platform/cloud/curl_http_request.cc:614] The transmission  of request 0x10670a130 (URI: https://www.googleapis.com/storage/v1/b/tfds-data/o/dataset_info%2Fmovielens%2F100k-ratings%2F0.1.1?fields=size%2Cgeneration%2Cupdated) has been stuck at 0 of 0 bytes for 61 seconds and will be aborted. CURL timing information: lookup time: 0.00412 (No error), connect time: 0 (No error), pre-transfer time: 0 (No error), start-transfer time: 0 (No error)\n",
      "2023-10-15 20:43:17.556034: E tensorflow/core/platform/cloud/curl_http_request.cc:614] The transmission  of request 0x105f071a0 (URI: https://www.googleapis.com/storage/v1/b/tfds-data/o/dataset_info%2Fmovielens%2F100k-ratings%2F0.1.1?fields=size%2Cgeneration%2Cupdated) has been stuck at 0 of 0 bytes for 61 seconds and will be aborted. CURL timing information: lookup time: 0.002885 (No error), connect time: 0 (No error), pre-transfer time: 0 (No error), start-transfer time: 0 (No error)\n"
     ]
    },
    {
     "name": "stdout",
     "output_type": "stream",
     "text": [
      "Downloading and preparing dataset Unknown size (download: Unknown size, generated: Unknown size, total: Unknown size) to /Users/huangqiushi/tensorflow_datasets/movielens/100k-ratings/0.1.1...\n"
     ]
    },
    {
     "name": "stderr",
     "output_type": "stream",
     "text": [
      "2023-10-15 20:44:18.613943: E tensorflow/core/platform/cloud/curl_http_request.cc:614] The transmission  of request 0x296bea670 (URI: https://www.googleapis.com/storage/v1/b/tfds-data/o/datasets%2Fmovielens%2F100k-ratings%2F0.1.1?fields=size%2Cgeneration%2Cupdated) has been stuck at 0 of 0 bytes for 61 seconds and will be aborted. CURL timing information: lookup time: 0.002914 (No error), connect time: 0 (No error), pre-transfer time: 0 (No error), start-transfer time: 0 (No error)\n",
      "2023-10-15 20:45:20.405336: E tensorflow/core/platform/cloud/curl_http_request.cc:614] The transmission  of request 0x16d1fbf80 (URI: https://www.googleapis.com/storage/v1/b/tfds-data/o/datasets%2Fmovielens%2F100k-ratings%2F0.1.1?fields=size%2Cgeneration%2Cupdated) has been stuck at 0 of 0 bytes for 61 seconds and will be aborted. CURL timing information: lookup time: 0.003671 (No error), connect time: 0 (No error), pre-transfer time: 0 (No error), start-transfer time: 0 (No error)\n",
      "2023-10-15 20:46:22.074241: E tensorflow/core/platform/cloud/curl_http_request.cc:614] The transmission  of request 0x10670a130 (URI: https://www.googleapis.com/storage/v1/b/tfds-data/o/datasets%2Fmovielens%2F100k-ratings%2F0.1.1?fields=size%2Cgeneration%2Cupdated) has been stuck at 0 of 0 bytes for 61 seconds and will be aborted. CURL timing information: lookup time: 0.004112 (No error), connect time: 0 (No error), pre-transfer time: 0 (No error), start-transfer time: 0 (No error)\n",
      "2023-10-15 20:47:24.113390: E tensorflow/core/platform/cloud/curl_http_request.cc:614] The transmission  of request 0x16d1fbf80 (URI: https://www.googleapis.com/storage/v1/b/tfds-data/o/datasets%2Fmovielens%2F100k-ratings%2F0.1.1?fields=size%2Cgeneration%2Cupdated) has been stuck at 0 of 0 bytes for 61 seconds and will be aborted. CURL timing information: lookup time: 0.001878 (No error), connect time: 0 (No error), pre-transfer time: 0 (No error), start-transfer time: 0 (No error)\n",
      "2023-10-15 20:48:26.914486: E tensorflow/core/platform/cloud/curl_http_request.cc:614] The transmission  of request 0x105f07be0 (URI: https://www.googleapis.com/storage/v1/b/tfds-data/o/datasets%2Fmovielens%2F100k-ratings%2F0.1.1?fields=size%2Cgeneration%2Cupdated) has been stuck at 0 of 0 bytes for 61 seconds and will be aborted. CURL timing information: lookup time: 0.003982 (No error), connect time: 0 (No error), pre-transfer time: 0 (No error), start-transfer time: 0 (No error)\n",
      "2023-10-15 20:49:29.711568: E tensorflow/core/platform/cloud/curl_http_request.cc:614] The transmission  of request 0x1614b9950 (URI: https://www.googleapis.com/storage/v1/b/tfds-data/o/datasets%2Fmovielens%2F100k-ratings%2F0.1.1?fields=size%2Cgeneration%2Cupdated) has been stuck at 0 of 0 bytes for 61 seconds and will be aborted. CURL timing information: lookup time: 0.002869 (No error), connect time: 0 (No error), pre-transfer time: 0 (No error), start-transfer time: 0 (No error)\n",
      "2023-10-15 20:50:34.641099: E tensorflow/core/platform/cloud/curl_http_request.cc:614] The transmission  of request 0x10670a130 (URI: https://www.googleapis.com/storage/v1/b/tfds-data/o/datasets%2Fmovielens%2F100k-ratings%2F0.1.1?fields=size%2Cgeneration%2Cupdated) has been stuck at 0 of 0 bytes for 61 seconds and will be aborted. CURL timing information: lookup time: 0.020562 (No error), connect time: 0 (No error), pre-transfer time: 0 (No error), start-transfer time: 0 (No error)\n",
      "2023-10-15 20:51:42.567434: E tensorflow/core/platform/cloud/curl_http_request.cc:614] The transmission  of request 0x105f07b50 (URI: https://www.googleapis.com/storage/v1/b/tfds-data/o/datasets%2Fmovielens%2F100k-ratings%2F0.1.1?fields=size%2Cgeneration%2Cupdated) has been stuck at 0 of 0 bytes for 61 seconds and will be aborted. CURL timing information: lookup time: 0.003832 (No error), connect time: 0 (No error), pre-transfer time: 0 (No error), start-transfer time: 0 (No error)\n",
      "2023-10-15 20:52:56.726333: E tensorflow/core/platform/cloud/curl_http_request.cc:614] The transmission  of request 0x10670a130 (URI: https://www.googleapis.com/storage/v1/b/tfds-data/o/datasets%2Fmovielens%2F100k-ratings%2F0.1.1?fields=size%2Cgeneration%2Cupdated) has been stuck at 0 of 0 bytes for 61 seconds and will be aborted. CURL timing information: lookup time: 0.014748 (No error), connect time: 0 (No error), pre-transfer time: 0 (No error), start-transfer time: 0 (No error)\n",
      "2023-10-15 20:54:24.144334: E tensorflow/core/platform/cloud/curl_http_request.cc:614] The transmission  of request 0x1614b9950 (URI: https://www.googleapis.com/storage/v1/b/tfds-data/o/datasets%2Fmovielens%2F100k-ratings%2F0.1.1?fields=size%2Cgeneration%2Cupdated) has been stuck at 0 of 0 bytes for 61 seconds and will be aborted. CURL timing information: lookup time: 0.002124 (No error), connect time: 0 (No error), pre-transfer time: 0 (No error), start-transfer time: 0 (No error)\n",
      "2023-10-15 20:55:57.432695: E tensorflow/core/platform/cloud/curl_http_request.cc:614] The transmission  of request 0x296bea670 (URI: https://www.googleapis.com/storage/v1/b/tfds-data/o/datasets%2Fmovielens%2F100k-ratings%2F0.1.1?fields=size%2Cgeneration%2Cupdated) has been stuck at 0 of 0 bytes for 61 seconds and will be aborted. CURL timing information: lookup time: 0.001588 (No error), connect time: 0 (No error), pre-transfer time: 0 (No error), start-transfer time: 0 (No error)\n"
     ]
    },
    {
     "data": {
      "application/vnd.jupyter.widget-view+json": {
       "model_id": "033e2c9ee29a4c3098c8f4c950caee9a",
       "version_major": 2,
       "version_minor": 0
      },
      "text/plain": [
       "Dl Completed...: 0 url [00:00, ? url/s]"
      ]
     },
     "metadata": {},
     "output_type": "display_data"
    },
    {
     "data": {
      "application/vnd.jupyter.widget-view+json": {
       "model_id": "bc94d563ed3649bb9927ea7a86889d73",
       "version_major": 2,
       "version_minor": 0
      },
      "text/plain": [
       "Dl Size...: 0 MiB [00:00, ? MiB/s]"
      ]
     },
     "metadata": {},
     "output_type": "display_data"
    },
    {
     "data": {
      "application/vnd.jupyter.widget-view+json": {
       "model_id": "f603be8720d84a97a3c59f032732fc38",
       "version_major": 2,
       "version_minor": 0
      },
      "text/plain": [
       "Extraction completed...: 0 file [00:00, ? file/s]"
      ]
     },
     "metadata": {},
     "output_type": "display_data"
    },
    {
     "data": {
      "application/vnd.jupyter.widget-view+json": {
       "model_id": "80fe822f12e549f6bc1d3cff7f61dd84",
       "version_major": 2,
       "version_minor": 0
      },
      "text/plain": [
       "Generating splits...:   0%|          | 0/1 [00:00<?, ? splits/s]"
      ]
     },
     "metadata": {},
     "output_type": "display_data"
    },
    {
     "data": {
      "application/vnd.jupyter.widget-view+json": {
       "model_id": "bf54cabda15a409e9471e032900b82e5",
       "version_major": 2,
       "version_minor": 0
      },
      "text/plain": [
       "Generating train examples...: 0 examples [00:00, ? examples/s]"
      ]
     },
     "metadata": {},
     "output_type": "display_data"
    },
    {
     "data": {
      "application/vnd.jupyter.widget-view+json": {
       "model_id": "58f582078da34fbe819d5f599cbea0cc",
       "version_major": 2,
       "version_minor": 0
      },
      "text/plain": [
       "Shuffling /Users/huangqiushi/tensorflow_datasets/movielens/100k-ratings/0.1.1.incompleteHSQDDE/movielens-train…"
      ]
     },
     "metadata": {},
     "output_type": "display_data"
    },
    {
     "name": "stdout",
     "output_type": "stream",
     "text": [
      "Dataset movielens downloaded and prepared to /Users/huangqiushi/tensorflow_datasets/movielens/100k-ratings/0.1.1. Subsequent calls will reuse this data.\n",
      "Metal device set to: Apple M1 Pro\n",
      "\n",
      "systemMemory: 16.00 GB\n",
      "maxCacheSize: 5.33 GB\n",
      "\n"
     ]
    },
    {
     "name": "stderr",
     "output_type": "stream",
     "text": [
      "2023-10-15 20:57:07.616042: I tensorflow/core/common_runtime/pluggable_device/pluggable_device_factory.cc:306] Could not identify NUMA node of platform GPU ID 0, defaulting to 0. Your kernel may not have been built with NUMA support.\n",
      "2023-10-15 20:57:07.616203: I tensorflow/core/common_runtime/pluggable_device/pluggable_device_factory.cc:272] Created TensorFlow device (/job:localhost/replica:0/task:0/device:GPU:0 with 0 MB memory) -> physical PluggableDevice (device: 0, name: METAL, pci bus id: <undefined>)\n"
     ]
    }
   ],
   "source": [
    "ratings = tfds.load(\"movielens/100k-ratings\", split=\"train\")\n",
    "ratings = ratings.map(lambda x: {\n",
    "    \"movie_id\": x[\"movie_id\"],\n",
    "    \"user_id\": x[\"user_id\"],\n",
    "    \"user_rating\": x[\"user_rating\"],\n",
    "    \"user_gender\": int(x[\"user_gender\"]),\n",
    "    \"user_zip_code\": x[\"user_zip_code\"],\n",
    "    \"user_occupation_text\": x[\"user_occupation_text\"],\n",
    "    \"bucketized_user_age\": int(x[\"bucketized_user_age\"]),\n",
    "})"
   ]
  },
  {
   "cell_type": "code",
   "execution_count": 3,
   "metadata": {},
   "outputs": [
    {
     "name": "stderr",
     "output_type": "stream",
     "text": [
      "2023-10-15 21:26:20.013635: E tensorflow/core/platform/cloud/curl_http_request.cc:614] The transmission  of request 0x10762fd70 (URI: https://www.googleapis.com/storage/v1/b/tfds-data/o/dataset_info%2Fmovielens%2F25m-ratings%2F0.1.1?fields=size%2Cgeneration%2Cupdated) has been stuck at 0 of 0 bytes for 61 seconds and will be aborted. CURL timing information: lookup time: 0.009211 (No error), connect time: 0 (No error), pre-transfer time: 0 (No error), start-transfer time: 0 (No error)\n",
      "2023-10-15 21:27:21.568008: E tensorflow/core/platform/cloud/curl_http_request.cc:614] The transmission  of request 0x105f06090 (URI: https://www.googleapis.com/storage/v1/b/tfds-data/o/dataset_info%2Fmovielens%2F25m-ratings%2F0.1.1?fields=size%2Cgeneration%2Cupdated) has been stuck at 0 of 0 bytes for 61 seconds and will be aborted. CURL timing information: lookup time: 0.003448 (No error), connect time: 0 (No error), pre-transfer time: 0 (No error), start-transfer time: 0 (No error)\n",
      "2023-10-15 21:28:23.061087: E tensorflow/core/platform/cloud/curl_http_request.cc:614] The transmission  of request 0x106709f50 (URI: https://www.googleapis.com/storage/v1/b/tfds-data/o/dataset_info%2Fmovielens%2F25m-ratings%2F0.1.1?fields=size%2Cgeneration%2Cupdated) has been stuck at 0 of 0 bytes for 61 seconds and will be aborted. CURL timing information: lookup time: 0.004067 (No error), connect time: 0 (No error), pre-transfer time: 0 (No error), start-transfer time: 0 (No error)\n",
      "2023-10-15 21:29:24.713414: E tensorflow/core/platform/cloud/curl_http_request.cc:614] The transmission  of request 0x106709f50 (URI: https://www.googleapis.com/storage/v1/b/tfds-data/o/dataset_info%2Fmovielens%2F25m-ratings%2F0.1.1?fields=size%2Cgeneration%2Cupdated) has been stuck at 0 of 0 bytes for 61 seconds and will be aborted. CURL timing information: lookup time: 0.005184 (No error), connect time: 0 (No error), pre-transfer time: 0 (No error), start-transfer time: 0 (No error)\n",
      "2023-10-15 21:30:27.257577: E tensorflow/core/platform/cloud/curl_http_request.cc:614] The transmission  of request 0x105f07d60 (URI: https://www.googleapis.com/storage/v1/b/tfds-data/o/dataset_info%2Fmovielens%2F25m-ratings%2F0.1.1?fields=size%2Cgeneration%2Cupdated) has been stuck at 0 of 0 bytes for 61 seconds and will be aborted. CURL timing information: lookup time: 0.016682 (No error), connect time: 0 (No error), pre-transfer time: 0 (No error), start-transfer time: 0 (No error)\n",
      "2023-10-15 21:31:29.981361: E tensorflow/core/platform/cloud/curl_http_request.cc:614] The transmission  of request 0x105f08d80 (URI: https://www.googleapis.com/storage/v1/b/tfds-data/o/dataset_info%2Fmovielens%2F25m-ratings%2F0.1.1?fields=size%2Cgeneration%2Cupdated) has been stuck at 0 of 0 bytes for 61 seconds and will be aborted. CURL timing information: lookup time: 0.003811 (No error), connect time: 0 (No error), pre-transfer time: 0 (No error), start-transfer time: 0 (No error)\n",
      "2023-10-15 21:32:34.998175: E tensorflow/core/platform/cloud/curl_http_request.cc:614] The transmission  of request 0x105f06090 (URI: https://www.googleapis.com/storage/v1/b/tfds-data/o/dataset_info%2Fmovielens%2F25m-ratings%2F0.1.1?fields=size%2Cgeneration%2Cupdated) has been stuck at 0 of 0 bytes for 61 seconds and will be aborted. CURL timing information: lookup time: 0.003856 (No error), connect time: 0 (No error), pre-transfer time: 0 (No error), start-transfer time: 0 (No error)\n",
      "2023-10-15 21:33:43.334062: E tensorflow/core/platform/cloud/curl_http_request.cc:614] The transmission  of request 0x106707430 (URI: https://www.googleapis.com/storage/v1/b/tfds-data/o/dataset_info%2Fmovielens%2F25m-ratings%2F0.1.1?fields=size%2Cgeneration%2Cupdated) has been stuck at 0 of 0 bytes for 61 seconds and will be aborted. CURL timing information: lookup time: 0.001671 (No error), connect time: 0 (No error), pre-transfer time: 0 (No error), start-transfer time: 0 (No error)\n",
      "2023-10-15 21:34:57.675043: E tensorflow/core/platform/cloud/curl_http_request.cc:614] The transmission  of request 0x105f06090 (URI: https://www.googleapis.com/storage/v1/b/tfds-data/o/dataset_info%2Fmovielens%2F25m-ratings%2F0.1.1?fields=size%2Cgeneration%2Cupdated) has been stuck at 0 of 0 bytes for 61 seconds and will be aborted. CURL timing information: lookup time: 0.003359 (No error), connect time: 60.2859 (No error), pre-transfer time: 0 (No error), start-transfer time: 0 (No error)\n",
      "2023-10-15 21:36:24.755820: E tensorflow/core/platform/cloud/curl_http_request.cc:614] The transmission  of request 0x106707430 (URI: https://www.googleapis.com/storage/v1/b/tfds-data/o/dataset_info%2Fmovielens%2F25m-ratings%2F0.1.1?fields=size%2Cgeneration%2Cupdated) has been stuck at 0 of 0 bytes for 61 seconds and will be aborted. CURL timing information: lookup time: 0.004025 (No error), connect time: 0 (No error), pre-transfer time: 0 (No error), start-transfer time: 0 (No error)\n",
      "2023-10-15 21:37:58.279957: E tensorflow/core/platform/cloud/curl_http_request.cc:614] The transmission  of request 0x106707430 (URI: https://www.googleapis.com/storage/v1/b/tfds-data/o/dataset_info%2Fmovielens%2F25m-ratings%2F0.1.1?fields=size%2Cgeneration%2Cupdated) has been stuck at 0 of 0 bytes for 61 seconds and will be aborted. CURL timing information: lookup time: 0.004123 (No error), connect time: 0 (No error), pre-transfer time: 0 (No error), start-transfer time: 0 (No error)\n"
     ]
    },
    {
     "name": "stdout",
     "output_type": "stream",
     "text": [
      "Downloading and preparing dataset Unknown size (download: Unknown size, generated: Unknown size, total: Unknown size) to /Users/huangqiushi/tensorflow_datasets/movielens/25m-ratings/0.1.1...\n"
     ]
    },
    {
     "name": "stderr",
     "output_type": "stream",
     "text": [
      "2023-10-15 21:38:59.295653: E tensorflow/core/platform/cloud/curl_http_request.cc:614] The transmission  of request 0x10762fd70 (URI: https://www.googleapis.com/storage/v1/b/tfds-data/o/datasets%2Fmovielens%2F25m-ratings%2F0.1.1?fields=size%2Cgeneration%2Cupdated) has been stuck at 0 of 0 bytes for 61 seconds and will be aborted. CURL timing information: lookup time: 0.002628 (No error), connect time: 0 (No error), pre-transfer time: 0 (No error), start-transfer time: 0 (No error)\n",
      "2023-10-15 21:40:00.734915: E tensorflow/core/platform/cloud/curl_http_request.cc:614] The transmission  of request 0x106707430 (URI: https://www.googleapis.com/storage/v1/b/tfds-data/o/datasets%2Fmovielens%2F25m-ratings%2F0.1.1?fields=size%2Cgeneration%2Cupdated) has been stuck at 0 of 0 bytes for 61 seconds and will be aborted. CURL timing information: lookup time: 0.003041 (No error), connect time: 0 (No error), pre-transfer time: 0 (No error), start-transfer time: 0 (No error)\n",
      "2023-10-15 21:41:02.218813: E tensorflow/core/platform/cloud/curl_http_request.cc:614] The transmission  of request 0x16712e7a0 (URI: https://www.googleapis.com/storage/v1/b/tfds-data/o/datasets%2Fmovielens%2F25m-ratings%2F0.1.1?fields=size%2Cgeneration%2Cupdated) has been stuck at 0 of 0 bytes for 61 seconds and will be aborted. CURL timing information: lookup time: 0.01317 (No error), connect time: 0 (No error), pre-transfer time: 0 (No error), start-transfer time: 0 (No error)\n",
      "2023-10-15 21:42:04.442715: E tensorflow/core/platform/cloud/curl_http_request.cc:614] The transmission  of request 0x105b15400 (URI: https://www.googleapis.com/storage/v1/b/tfds-data/o/datasets%2Fmovielens%2F25m-ratings%2F0.1.1?fields=size%2Cgeneration%2Cupdated) has been stuck at 0 of 0 bytes for 61 seconds and will be aborted. CURL timing information: lookup time: 0.003581 (No error), connect time: 0 (No error), pre-transfer time: 0 (No error), start-transfer time: 0 (No error)\n",
      "2023-10-15 21:43:06.673148: E tensorflow/core/platform/cloud/curl_http_request.cc:614] The transmission  of request 0x106707430 (URI: https://www.googleapis.com/storage/v1/b/tfds-data/o/datasets%2Fmovielens%2F25m-ratings%2F0.1.1?fields=size%2Cgeneration%2Cupdated) has been stuck at 0 of 0 bytes for 61 seconds and will be aborted. CURL timing information: lookup time: 0.003627 (No error), connect time: 0 (No error), pre-transfer time: 0 (No error), start-transfer time: 0 (No error)\n",
      "2023-10-15 21:44:09.861862: E tensorflow/core/platform/cloud/curl_http_request.cc:614] The transmission  of request 0x105f06090 (URI: https://www.googleapis.com/storage/v1/b/tfds-data/o/datasets%2Fmovielens%2F25m-ratings%2F0.1.1?fields=size%2Cgeneration%2Cupdated) has been stuck at 0 of 0 bytes for 61 seconds and will be aborted. CURL timing information: lookup time: 0.004316 (No error), connect time: 0 (No error), pre-transfer time: 0 (No error), start-transfer time: 0 (No error)\n",
      "2023-10-15 21:45:14.712692: E tensorflow/core/platform/cloud/curl_http_request.cc:614] The transmission  of request 0x105f06090 (URI: https://www.googleapis.com/storage/v1/b/tfds-data/o/datasets%2Fmovielens%2F25m-ratings%2F0.1.1?fields=size%2Cgeneration%2Cupdated) has been stuck at 0 of 0 bytes for 61 seconds and will be aborted. CURL timing information: lookup time: 0.037466 (No error), connect time: 0 (No error), pre-transfer time: 0 (No error), start-transfer time: 0 (No error)\n",
      "2023-10-15 21:46:22.966031: E tensorflow/core/platform/cloud/curl_http_request.cc:614] The transmission  of request 0x16712e7a0 (URI: https://www.googleapis.com/storage/v1/b/tfds-data/o/datasets%2Fmovielens%2F25m-ratings%2F0.1.1?fields=size%2Cgeneration%2Cupdated) has been stuck at 0 of 0 bytes for 61 seconds and will be aborted. CURL timing information: lookup time: 0.003255 (No error), connect time: 0 (No error), pre-transfer time: 0 (No error), start-transfer time: 0 (No error)\n",
      "2023-10-15 21:47:38.000076: E tensorflow/core/platform/cloud/curl_http_request.cc:614] The transmission  of request 0x105f06090 (URI: https://www.googleapis.com/storage/v1/b/tfds-data/o/datasets%2Fmovielens%2F25m-ratings%2F0.1.1?fields=size%2Cgeneration%2Cupdated) has been stuck at 0 of 0 bytes for 62 seconds and will be aborted. CURL timing information: lookup time: 0.05532 (No error), connect time: 0 (No error), pre-transfer time: 0 (No error), start-transfer time: 0 (No error)\n",
      "2023-10-15 21:49:04.737785: E tensorflow/core/platform/cloud/curl_http_request.cc:614] The transmission  of request 0x16712e7a0 (URI: https://www.googleapis.com/storage/v1/b/tfds-data/o/datasets%2Fmovielens%2F25m-ratings%2F0.1.1?fields=size%2Cgeneration%2Cupdated) has been stuck at 0 of 0 bytes for 61 seconds and will be aborted. CURL timing information: lookup time: 0.003095 (No error), connect time: 0 (No error), pre-transfer time: 0 (No error), start-transfer time: 0 (No error)\n",
      "2023-10-15 21:50:38.312371: E tensorflow/core/platform/cloud/curl_http_request.cc:614] The transmission  of request 0x10762fd70 (URI: https://www.googleapis.com/storage/v1/b/tfds-data/o/datasets%2Fmovielens%2F25m-ratings%2F0.1.1?fields=size%2Cgeneration%2Cupdated) has been stuck at 0 of 0 bytes for 61 seconds and will be aborted. CURL timing information: lookup time: 0.060248 (No error), connect time: 0 (No error), pre-transfer time: 0 (No error), start-transfer time: 0 (No error)\n"
     ]
    },
    {
     "data": {
      "application/vnd.jupyter.widget-view+json": {
       "model_id": "ce8ff280dd6e4fbfbfb11f89bd3d7038",
       "version_major": 2,
       "version_minor": 0
      },
      "text/plain": [
       "Dl Completed...: 0 url [00:00, ? url/s]"
      ]
     },
     "metadata": {},
     "output_type": "display_data"
    },
    {
     "data": {
      "application/vnd.jupyter.widget-view+json": {
       "model_id": "defeb3bb7e954a6892e1e9554967d0fc",
       "version_major": 2,
       "version_minor": 0
      },
      "text/plain": [
       "Dl Size...: 0 MiB [00:00, ? MiB/s]"
      ]
     },
     "metadata": {},
     "output_type": "display_data"
    },
    {
     "data": {
      "application/vnd.jupyter.widget-view+json": {
       "model_id": "0323e478dad14263a235bff708d32212",
       "version_major": 2,
       "version_minor": 0
      },
      "text/plain": [
       "Extraction completed...: 0 file [00:00, ? file/s]"
      ]
     },
     "metadata": {},
     "output_type": "display_data"
    },
    {
     "data": {
      "application/vnd.jupyter.widget-view+json": {
       "model_id": "61b1c546249540f4a8e3523886e9f55e",
       "version_major": 2,
       "version_minor": 0
      },
      "text/plain": [
       "Generating splits...:   0%|          | 0/1 [00:00<?, ? splits/s]"
      ]
     },
     "metadata": {},
     "output_type": "display_data"
    },
    {
     "data": {
      "application/vnd.jupyter.widget-view+json": {
       "model_id": "ce0a7152d601459db762ece5b0b735fc",
       "version_major": 2,
       "version_minor": 0
      },
      "text/plain": [
       "Generating train examples...: 0 examples [00:00, ? examples/s]"
      ]
     },
     "metadata": {},
     "output_type": "display_data"
    },
    {
     "data": {
      "application/vnd.jupyter.widget-view+json": {
       "model_id": "f85f0657d0bc4a2b9ae1a242a2aa1118",
       "version_major": 2,
       "version_minor": 0
      },
      "text/plain": [
       "Shuffling /Users/huangqiushi/tensorflow_datasets/movielens/25m-ratings/0.1.1.incompleteDRUAA7/movielens-train.…"
      ]
     },
     "metadata": {},
     "output_type": "display_data"
    },
    {
     "name": "stdout",
     "output_type": "stream",
     "text": [
      "Dataset movielens downloaded and prepared to /Users/huangqiushi/tensorflow_datasets/movielens/25m-ratings/0.1.1. Subsequent calls will reuse this data.\n"
     ]
    }
   ],
   "source": [
    "ratings = tfds.load(\"movielens/25m-ratings\", split=\"train\")"
   ]
  },
  {
   "cell_type": "code",
   "execution_count": null,
   "metadata": {},
   "outputs": [],
   "source": []
  }
 ],
 "metadata": {
  "kernelspec": {
   "display_name": "base",
   "language": "python",
   "name": "python3"
  },
  "language_info": {
   "codemirror_mode": {
    "name": "ipython",
    "version": 3
   },
   "file_extension": ".py",
   "mimetype": "text/x-python",
   "name": "python",
   "nbconvert_exporter": "python",
   "pygments_lexer": "ipython3",
   "version": "3.9.13"
  },
  "orig_nbformat": 4
 },
 "nbformat": 4,
 "nbformat_minor": 2
}
